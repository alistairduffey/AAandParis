{
 "cells": [
  {
   "cell_type": "markdown",
   "id": "fffce1a0-729e-409b-a471-96586933d01d",
   "metadata": {},
   "source": [
    "### Notebook preprocesses spatial tas data for observations and CMIP6 models to non-spatial 'global' and 'world without arctic' timeseries\n",
    "\n",
    "The directory structure to the CMIP6 model data is proprietary to the JASMIN supercomputer, which has direct access to the CEDA archive. The code below will not find any model data if not run on JASMIN. \n",
    "\n",
    "Author: Alistair Duffey, alistair.duffey.21@ucl.ac.uk"
   ]
  },
  {
   "cell_type": "code",
   "execution_count": 22,
   "id": "e10e66e0-9c0a-4a4a-bc28-f65412775da0",
   "metadata": {},
   "outputs": [],
   "source": [
    "import iris\n",
    "import Utils.iris_utils as iris_utils\n",
    "import pandas as pd\n",
    "import numpy as np\n",
    "import os\n",
    "import logging\n",
    "import esmvalcore.preprocessor\n",
    "import glob\n",
    "import warnings\n",
    "warnings.filterwarnings(\"ignore\")\n",
    "from tqdm import tqdm\n",
    "import xarray as xr\n",
    "from xmip.preprocessing import rename_cmip6\n",
    "import matplotlib.pyplot as plt"
   ]
  },
  {
   "cell_type": "code",
   "execution_count": 23,
   "id": "0e4233a9-c553-46aa-bd57-db56c837ad29",
   "metadata": {},
   "outputs": [
    {
     "data": {
      "text/plain": [
       "<matplotlib.legend.Legend at 0x7f934ef54700>"
      ]
     },
     "execution_count": 23,
     "metadata": {},
     "output_type": "execute_result"
    },
    {
     "data": {
      "image/png": "[encoded data removed]",
      "text/plain": [
       "<Figure size 432x288 with 1 Axes>"
      ]
     },
     "metadata": {
      "needs_background": "light"
     },
     "output_type": "display_data"
    }
   ],
   "source": [
    "\"\"\" \n",
    "    preprocess observations from nc files to csvs of global and\n",
    "    no_arctic global mean temp \n",
    "\"\"\"\n",
    "\n",
    "def preprocess_obs(file, outpath, tas_string, arctic_cut_off=66):\n",
    "    data = xr.open_mfdataset(file, use_cftime=True).load()\n",
    "    data = data.groupby(\"time.year\").mean(dim=\"time\")\n",
    "    data = data.mean(\"longitude\")\n",
    "    #print(data)\n",
    "    new_lat = np.arange(-90, 90, 0.5)\n",
    "    data = data.interp(latitude=new_lat)\n",
    "    #print(data)\n",
    "    \n",
    "    years = data.year.compute()\n",
    "                \n",
    "    arctic_annual = data.sel(latitude=slice(-90,arctic_cut_off))\n",
    "    world_w = data.weighted(weights=np.cos(np.deg2rad(data.latitude)))\n",
    "    arctic_w = arctic_annual.weighted(weights=np.cos(np.deg2rad(arctic_annual.latitude)))\n",
    "    \n",
    "    \n",
    "    df = pd.DataFrame({'no_arctic_tas':arctic_w.mean(\"latitude\")[tas_string],\n",
    "                        'world_tas':world_w.mean(\"latitude\")[tas_string],\n",
    "                        'year':years.values})\n",
    "    \n",
    "    df.set_index('year',inplace=True)\n",
    "    df.sort_index(inplace=True)\n",
    "    df.to_csv(outpath)\n",
    "\n",
    "### run for hadcrut\n",
    "out_file = 'int_outputs/temperature_hadcrut/hadcrut5_tas.csv'\n",
    "Hadcrut_file = 'Inputs/HadCRUT5/Downloaded_29_12_22/HadCRUT.5.0.1.0.analysis.anomalies.ensemble_mean.nc'\n",
    "preprocess_obs(Hadcrut_file, out_file, tas_string='tas_mean')\n",
    "\n",
    "### run for C&W\n",
    "out_file = 'int_outputs/temperature_CW/CW_tas.csv'\n",
    "CW_file = 'Inputs/Cowtan_Way/had4_krig_v2_0_0.nc'\n",
    "preprocess_obs(CW_file, out_file, tas_string='temperature_anomaly')\n",
    "\n",
    "### test output of obs processing\n",
    "def baseline_obs(df, window, preind_period=[1850,1900]):\n",
    "    \"\"\" hadcrut analysis annual means tas data is donwloaded as anomaly relative to the period \n",
    "        1961-1990, (see description here: https://www.metoffice.gov.uk/hadobs/hadcrut5/data/current/download.html)\n",
    "        we preprocess by re-baselining this to be anomaly relative to our preindustrial period, 1850-1900\"\"\n",
    "    \n",
    "    returns df with tas relative to pre-industrial mean \"\"\"\n",
    "    #df.rename(columns={'Time':'Year'}, inplace=True)\n",
    "    df_pre_ind = df[df['year'].between(preind_period[0], preind_period[1])]\n",
    "    offset_w = df_pre_ind['world_tas'].mean()\n",
    "    offset_na = df_pre_ind['no_arctic_tas'].mean()\n",
    "    df_out = df.copy()\n",
    "    df_out['world_tas'] = df_out['world_tas'] - offset_w\n",
    "    df_out['no_arctic_tas'] = df_out['no_arctic_tas'] - offset_na\n",
    "    df_out['world_tas'] = df_out['world_tas'].rolling(window, center=True).mean()\n",
    "    df_out['no_arctic_tas'] = df_out['no_arctic_tas'].rolling(window, center=True).mean()\n",
    "    return df_out\n",
    "\n",
    "CW = baseline_obs(pd.read_csv('int_outputs/temperature_CW/CW_tas.csv'), 20)\n",
    "HC = baseline_obs(pd.read_csv('int_outputs/temperature_hadcrut/hadcrut5_tas.csv'), 20)\n",
    "\n",
    "plt.plot(CW['year'], CW['no_arctic_tas'], c='r', label='CW no_arctic')\n",
    "plt.plot(CW['year'], CW['world_tas'], c='b', label='CW world')\n",
    "plt.plot(HC['year'], HC['no_arctic_tas'], c='r', ls='--', label='HC no_arctic')\n",
    "plt.plot(HC['year'], HC['world_tas'], c='b', ls='--', label='HC world')\n",
    "plt.legend()"
   ]
  },
  {
   "cell_type": "code",
   "execution_count": 2,
   "id": "f4124b1e-e09e-447b-8517-5cc539dc8c28",
   "metadata": {},
   "outputs": [
    {
     "name": "stdout",
     "output_type": "stream",
     "text": [
      "394\n"
     ]
    }
   ],
   "source": [
    "#exps = [\"ssp370\", \"historical\"]\n",
    "exps = [\"historical\"]\n",
    "#exps = ['ssp245']\n",
    "#exps = ['ssp126']\n",
    "dirs = []\n",
    "var_path = \"Amon/tas\"\n",
    "for experiment in exps:\n",
    "    if experiment == \"historical\":\n",
    "        exp_set = \"CMIP\"\n",
    "    else:\n",
    "        exp_set = \"ScenarioMIP\"\n",
    "    for x in glob.glob('/badc/cmip6/data/CMIP6/{es}/*/*/{e}/*/{v}/*/latest/'.format(es=exp_set, e=experiment, v=var_path)):\n",
    "        dirs.append(x)\n",
    "dirs.reverse()\n",
    "print(len(dirs))"
   ]
  },
  {
   "cell_type": "code",
   "execution_count": 3,
   "id": "5f13e80d-1dfb-4f4a-9cf1-b6c33112db0e",
   "metadata": {},
   "outputs": [],
   "source": [
    "def preprocess(folder, arctic_cut_off=66):\n",
    "    \n",
    "    \"\"\" makes a df contining global mean and {global except arctic} mean\n",
    "        temp by year, for the first ensemble member of each model \"\"\"\n",
    "    \n",
    "    outpath = 'int_outputs/temperature_v2/{M}_{Exp}.csv'.format(M=folder.split('/')[7], Exp=folder.split('/')[8])\n",
    "    #outpath = 'int_outputs/temperature_v3/{M}_{Exp}_{Ens}.csv'.format(\n",
    "    #                                    M=folder.split('/')[7], Exp=folder.split('/')[8], Ens=folder.split('/')[9])\n",
    "    if os.path.exists(outpath):\n",
    "        return\n",
    "    else:                                                              \n",
    "        try:\n",
    "            data = rename_cmip6(xr.open_mfdataset(folder + \"*.nc\", use_cftime=True))\n",
    "            winter_mask = data.time.dt.month.isin([12,1,2])\n",
    "            jan_mask = data.time.dt.month.isin([1]) \n",
    "            name = str(folder.split('/')[7] + '_' + folder.split('/')[8] + '_' + folder.split('/')[9])\n",
    "            \n",
    "            at_data = data['tas']#.isel(member_id=0)\n",
    "            \n",
    "            #at_data = at_data[winter_mask]\n",
    "            \n",
    "            years = data.time.dt.year[jan_mask].compute()\n",
    "            \n",
    "            # month_length = data.time.dt.days_in_month\n",
    "            # weights = ( month_length.groupby(\"time.season\") / month_length.groupby(\"time.season\").mean())\n",
    "            world_annual = (at_data).groupby(\"time.year\").mean(dim=\"time\")\n",
    "            arctic_annual = world_annual.sel(y=slice(-90,arctic_cut_off))\n",
    "            \n",
    "            world_w = world_annual.weighted(weights=np.cos(np.deg2rad(world_annual.y)))\n",
    "            arctic_w = arctic_annual.weighted(weights=np.cos(np.deg2rad(arctic_annual.y)))\n",
    "            \n",
    "            df = pd.DataFrame({'no_arctic_tas':arctic_w.mean((\"x\",\"y\")).compute().values,\n",
    "                               'world_tas':world_w.mean((\"x\",\"y\")).compute().values,\n",
    "                               'year':years.values})\n",
    "            \n",
    "            df.set_index('year',inplace=True)\n",
    "            df.sort_index(inplace=True)\n",
    "            df['Model'] = folder.split('/')[7]\n",
    "            df['Experiment'] = folder.split('/')[8]\n",
    "            df['Ensemble_member'] = folder.split('/')[9]\n",
    "            df.to_csv(outpath) \n",
    "        except:\n",
    "            print(name)\n",
    "\n",
    "for dir in tqdm(dirs):\n",
    "    preprocess(dir)"
   ]
  },
  {
   "cell_type": "code",
   "execution_count": 40,
   "id": "ace5a4fd-9ba3-4876-a4d8-a26c9bc3298c",
   "metadata": {},
   "outputs": [],
   "source": [
    "def preprocess_multi_ens(folder, arctic_cut_off=66):\n",
    "    \n",
    "    \"\"\" makes a df contining global mean and {global except arctic} mean\n",
    "        temp by year, for the first ensemble member of each model \"\"\"\n",
    "    \n",
    "    outpath = 'int_outputs/temperature_multi_ens/{M}_{Exp}_{Ens}.csv'.format(\n",
    "                M=folder.split('/')[7], Exp=folder.split('/')[8], Ens=folder.split('/')[9])\n",
    "    \n",
    "    if os.path.exists(outpath):\n",
    "        return\n",
    "    else:                                                              \n",
    "        try:\n",
    "            data = rename_cmip6(xr.open_mfdataset(folder + \"*.nc\", use_cftime=True))\n",
    "            winter_mask = data.time.dt.month.isin([12,1,2])\n",
    "            jan_mask = data.time.dt.month.isin([1]) \n",
    "            name = str(folder.split('/')[7] + '_' + folder.split('/')[8] + '_' + folder.split('/')[9])\n",
    "            \n",
    "            at_data = data['tas']#.isel(member_id=0)\n",
    "            \n",
    "            #at_data = at_data[winter_mask]\n",
    "            \n",
    "            years = data.time.dt.year[jan_mask].compute()\n",
    "            \n",
    "            # month_length = data.time.dt.days_in_month\n",
    "            # weights = ( month_length.groupby(\"time.season\") / month_length.groupby(\"time.season\").mean())\n",
    "            world_annual = (at_data).groupby(\"time.year\").mean(dim=\"time\")\n",
    "            arctic_annual = world_annual.sel(y=slice(-90,arctic_cut_off))\n",
    "            \n",
    "            world_w = world_annual.weighted(weights=np.cos(np.deg2rad(world_annual.y)))\n",
    "            arctic_w = arctic_annual.weighted(weights=np.cos(np.deg2rad(arctic_annual.y)))\n",
    "            \n",
    "            df = pd.DataFrame({'no_arctic_tas':arctic_w.mean((\"x\",\"y\")).compute().values,\n",
    "                               'world_tas':world_w.mean((\"x\",\"y\")).compute().values,\n",
    "                               'year':years.values})\n",
    "            \n",
    "            df.set_index('year',inplace=True)\n",
    "            df.sort_index(inplace=True)\n",
    "            df['Model'] = folder.split('/')[7]\n",
    "            df['Experiment'] = folder.split('/')[8]\n",
    "            df['Ensemble_member'] = folder.split('/')[9]\n",
    "            df.to_csv(outpath) \n",
    "        except:\n",
    "            print(name)\n",
    "\n",
    "for dir in tqdm(dirs):\n",
    "    preprocess_multi_ens(dir)"
   ]
  },
  {
   "cell_type": "code",
   "execution_count": null,
   "id": "bf9c9443-f9ed-4800-a26e-a2bc58a81700",
   "metadata": {},
   "outputs": [],
   "source": []
  },
  {
   "cell_type": "code",
   "execution_count": null,
   "id": "00d1faf9-f9da-4b1f-8ce7-3614d1b2cce4",
   "metadata": {},
   "outputs": [],
   "source": []
  },
  {
   "cell_type": "code",
   "execution_count": null,
   "id": "882528c5-8b78-45d6-be43-052d1477bfe1",
   "metadata": {},
   "outputs": [],
   "source": []
  },
  {
   "cell_type": "code",
   "execution_count": null,
   "id": "f5619621-a47c-4962-9055-7ca5b1972da2",
   "metadata": {},
   "outputs": [],
   "source": []
  }
 ],
 "metadata": {
  "kernelspec": {
   "display_name": "main",
   "language": "python",
   "name": "main"
  },
  "language_info": {
   "codemirror_mode": {
    "name": "ipython",
    "version": 3
   },
   "file_extension": ".py",
   "mimetype": "text/x-python",
   "name": "python",
   "nbconvert_exporter": "python",
   "pygments_lexer": "ipython3",
   "version": "3.10.5"
  }
 },
 "nbformat": 4,
 "nbformat_minor": 5
}
